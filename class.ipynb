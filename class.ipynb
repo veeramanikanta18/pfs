{
 "cells": [
  {
   "cell_type": "markdown",
   "metadata": {},
   "source": [
    " a class is a blueprint for creating objects. It defines a set of attributes (variables) and methods (functions) that the objects created from the class will have"
   ]
  },
  {
   "cell_type": "code",
   "execution_count": 18,
   "metadata": {},
   "outputs": [],
   "source": [
    "class c1:               # declaration of the class \n",
    "    def m1():           # method declaration \n",
    "        print('hello')\n",
    "    def m2():\n",
    "        print('bye')"
   ]
  },
  {
   "cell_type": "code",
   "execution_count": 19,
   "metadata": {},
   "outputs": [
    {
     "name": "stdout",
     "output_type": "stream",
     "text": [
      "hello\n"
     ]
    }
   ],
   "source": [
    "c1.m1()"
   ]
  },
  {
   "cell_type": "code",
   "execution_count": 20,
   "metadata": {},
   "outputs": [
    {
     "data": {
      "text/plain": [
       "__main__.c1"
      ]
     },
     "execution_count": 20,
     "metadata": {},
     "output_type": "execute_result"
    }
   ],
   "source": [
    "c1"
   ]
  },
  {
   "cell_type": "code",
   "execution_count": 21,
   "metadata": {},
   "outputs": [
    {
     "name": "stdout",
     "output_type": "stream",
     "text": [
      "bye\n"
     ]
    }
   ],
   "source": [
    "c1.m2()"
   ]
  },
  {
   "cell_type": "code",
   "execution_count": 22,
   "metadata": {},
   "outputs": [
    {
     "name": "stdout",
     "output_type": "stream",
     "text": [
      "2021 Toyota Corolla\n",
      "Toyota Corolla is starting.\n"
     ]
    }
   ],
   "source": [
    "class Car:\n",
    "    # Constructor method\n",
    "    def __init__(self, brand, model, year):\n",
    "        self.brand = brand  # Instance attribute\n",
    "        self.model = model\n",
    "        self.year = year\n",
    "    \n",
    "    # Method to describe the car\n",
    "    def describe(self):\n",
    "        return f\"{self.year} {self.brand} {self.model}\"\n",
    "    \n",
    "    # Method to start the car\n",
    "    def start(self):\n",
    "        return f\"{self.brand} {self.model} is starting.\"\n",
    "\n",
    "# Creating an object (instance) of the Car class\n",
    "my_car = Car(\"Toyota\", \"Corolla\", 2021)\n",
    "# Accessing attributes and methods\n",
    "print(my_car.describe())  # Output: 2021 Toyota Corolla\n",
    "print(my_car.start())     # Output: Toyota Corolla is starting.\n"
   ]
  },
  {
   "cell_type": "code",
   "execution_count": 23,
   "metadata": {},
   "outputs": [],
   "source": [
    "class info:\n",
    "    @staticmethod       # decarators\n",
    "    def test(name):\n",
    "        print(name)\n",
    "\n",
    "    def check(self,a):\n",
    "        print(a)"
   ]
  },
  {
   "cell_type": "code",
   "execution_count": 24,
   "metadata": {},
   "outputs": [],
   "source": [
    "class value:\n",
    "    \n",
    "    @classmethod                    # type-1\n",
    "    def gen(ab,xy):\n",
    "        print(ab,xy,sep='--')\n",
    "\n",
    "    #gen = classmethod(gen)         # type-2"
   ]
  },
  {
   "cell_type": "code",
   "execution_count": 25,
   "metadata": {},
   "outputs": [
    {
     "name": "stdout",
     "output_type": "stream",
     "text": [
      "mani\n"
     ]
    }
   ],
   "source": [
    "info.test('mani')"
   ]
  },
  {
   "cell_type": "code",
   "execution_count": 26,
   "metadata": {},
   "outputs": [
    {
     "name": "stdout",
     "output_type": "stream",
     "text": [
      "23\n"
     ]
    }
   ],
   "source": [
    "info.check(1,23)"
   ]
  },
  {
   "cell_type": "code",
   "execution_count": 27,
   "metadata": {},
   "outputs": [],
   "source": [
    "# Inheritance:\n",
    "\n",
    "class FirstClass:           # parent or super class\n",
    "    def setdata(self,value):\n",
    "        self.data = value\n",
    "\n",
    "    def display(self):\n",
    "        print(self.data)\n",
    "        print('hello')"
   ]
  },
  {
   "cell_type": "code",
   "execution_count": 28,
   "metadata": {},
   "outputs": [],
   "source": [
    "f1 = FirstClass()"
   ]
  },
  {
   "cell_type": "code",
   "execution_count": 29,
   "metadata": {},
   "outputs": [],
   "source": [
    "f1.setdata(34)"
   ]
  },
  {
   "cell_type": "code",
   "execution_count": 30,
   "metadata": {},
   "outputs": [
    {
     "name": "stdout",
     "output_type": "stream",
     "text": [
      "34\n",
      "hello\n"
     ]
    }
   ],
   "source": [
    "f1.display()"
   ]
  },
  {
   "cell_type": "code",
   "execution_count": 31,
   "metadata": {},
   "outputs": [
    {
     "data": {
      "text/plain": [
       "{'data': 34}"
      ]
     },
     "execution_count": 31,
     "metadata": {},
     "output_type": "execute_result"
    }
   ],
   "source": [
    "f1.__dict__"
   ]
  },
  {
   "cell_type": "code",
   "execution_count": 40,
   "metadata": {},
   "outputs": [],
   "source": [
    "class sencondclass(FirstClass):     # child or base class\n",
    "    count = 33\n",
    "    name = 'main'\n",
    "    data = 'hello'\n",
    "\n",
    "    def get_name(self):\n",
    "        return self.name\n",
    "\n",
    "    def set_name(cls,new_name):\n",
    "        cls.name = new_name"
   ]
  },
  {
   "cell_type": "code",
   "execution_count": 41,
   "metadata": {},
   "outputs": [],
   "source": [
    "obj = sencondclass()"
   ]
  },
  {
   "cell_type": "code",
   "execution_count": 42,
   "metadata": {},
   "outputs": [
    {
     "data": {
      "text/plain": [
       "'main'"
      ]
     },
     "execution_count": 42,
     "metadata": {},
     "output_type": "execute_result"
    }
   ],
   "source": [
    "obj.get_name()"
   ]
  },
  {
   "cell_type": "code",
   "execution_count": 43,
   "metadata": {},
   "outputs": [
    {
     "data": {
      "text/plain": [
       "{}"
      ]
     },
     "execution_count": 43,
     "metadata": {},
     "output_type": "execute_result"
    }
   ],
   "source": [
    "obj.__dict__"
   ]
  },
  {
   "cell_type": "code",
   "execution_count": 44,
   "metadata": {},
   "outputs": [],
   "source": [
    "# step -1 : python try to find name attribute in s1 instance. \n",
    "# step - 2 : python try to find name attribute in the class to which s1 instance belongs to (secondclass)"
   ]
  },
  {
   "cell_type": "code",
   "execution_count": 45,
   "metadata": {},
   "outputs": [
    {
     "data": {
      "text/plain": [
       "'main'"
      ]
     },
     "execution_count": 45,
     "metadata": {},
     "output_type": "execute_result"
    }
   ],
   "source": [
    "obj.name"
   ]
  },
  {
   "cell_type": "code",
   "execution_count": 46,
   "metadata": {},
   "outputs": [
    {
     "data": {
      "text/plain": [
       "<bound method FirstClass.display of <__main__.sencondclass object at 0x11036fe20>>"
      ]
     },
     "execution_count": 46,
     "metadata": {},
     "output_type": "execute_result"
    }
   ],
   "source": [
    "obj.display"
   ]
  },
  {
   "cell_type": "code",
   "execution_count": 47,
   "metadata": {},
   "outputs": [
    {
     "data": {
      "text/plain": [
       "<bound method sencondclass.set_name of <__main__.sencondclass object at 0x11036fe20>>"
      ]
     },
     "execution_count": 47,
     "metadata": {},
     "output_type": "execute_result"
    }
   ],
   "source": [
    "obj.set_name"
   ]
  },
  {
   "cell_type": "code",
   "execution_count": 50,
   "metadata": {},
   "outputs": [],
   "source": [
    "class vehicle:\n",
    "    brand = None\n",
    "\n",
    "    def __init__(self,model,cost,chasis,color):\n",
    "        self.model = model\n",
    "        self.cost = cost\n",
    "        self.chasis = chasis\n",
    "        self.color = color\n",
    "\n",
    "    def get_info(self):\n",
    "        return self.brand, self.model, self.cost, self.chasis"
   ]
  },
  {
   "cell_type": "code",
   "execution_count": 51,
   "metadata": {},
   "outputs": [
    {
     "data": {
      "text/plain": [
       "{'model': 'hero',\n",
       " 'cost': 65000,\n",
       " 'chasis': 'lyafdlls2443fskhfs',\n",
       " 'color': 'Black'}"
      ]
     },
     "execution_count": 51,
     "metadata": {},
     "output_type": "execute_result"
    }
   ],
   "source": [
    "v1 = vehicle(\"hero\",65000,'lyafdlls2443fskhfs','Black')\n",
    "v1.__dict__"
   ]
  },
  {
   "cell_type": "code",
   "execution_count": 52,
   "metadata": {},
   "outputs": [],
   "source": [
    "class car(vehicle):\n",
    "    tyre_count = 4\n",
    "\n",
    "    def __init__(self,model,cost,chasis,color):\n",
    "        vehicle.__init__()"
   ]
  },
  {
   "cell_type": "code",
   "execution_count": 1,
   "metadata": {},
   "outputs": [],
   "source": [
    "class Employee:                                 # parent class\n",
    "    def __init__(self,name,job=None, pay=0):\n",
    "        self.name = name\n",
    "        self.job = job\n",
    "        self.pay = pay\n",
    "\n",
    "    def lastname(self):\n",
    "        return self.name.split(' ')[-1]\n",
    "\n",
    "    def giveraise(self,percent,bouns=0):\n",
    "        if self.job == 'Manage':\n",
    "            self.pay = int(self.pay * (1 + percent+bouns))\n",
    "\n",
    "        else:\n",
    "            self.pay = int(self.pay * (1 + percent))\n",
    "\n",
    "\n",
    "\n",
    "class Manager(Employee):                # child class\n",
    "    def promote(self,new_job):\n",
    "        self.job = new_job"
   ]
  },
  {
   "cell_type": "code",
   "execution_count": 2,
   "metadata": {},
   "outputs": [],
   "source": [
    "obj = Employee('mani','Developer',35000)"
   ]
  },
  {
   "cell_type": "code",
   "execution_count": 3,
   "metadata": {},
   "outputs": [
    {
     "data": {
      "text/plain": [
       "{'name': 'mani', 'job': 'Developer', 'pay': 35000}"
      ]
     },
     "execution_count": 3,
     "metadata": {},
     "output_type": "execute_result"
    }
   ],
   "source": [
    "obj.__dict__"
   ]
  },
  {
   "cell_type": "code",
   "execution_count": 5,
   "metadata": {},
   "outputs": [],
   "source": [
    "obj1 = Manager('veera','Manager',45000)"
   ]
  },
  {
   "cell_type": "code",
   "execution_count": 7,
   "metadata": {},
   "outputs": [
    {
     "data": {
      "text/plain": [
       "{'name': 'veera', 'job': 'Manager', 'pay': 45000}"
      ]
     },
     "execution_count": 7,
     "metadata": {},
     "output_type": "execute_result"
    }
   ],
   "source": [
    "obj1.__dict__"
   ]
  },
  {
   "cell_type": "code",
   "execution_count": 8,
   "metadata": {},
   "outputs": [],
   "source": [
    "obj1.promote('sr.Manager')"
   ]
  },
  {
   "cell_type": "code",
   "execution_count": 9,
   "metadata": {},
   "outputs": [
    {
     "data": {
      "text/plain": [
       "{'name': 'veera', 'job': 'sr.Manager', 'pay': 45000}"
      ]
     },
     "execution_count": 9,
     "metadata": {},
     "output_type": "execute_result"
    }
   ],
   "source": [
    "obj1.__dict__"
   ]
  },
  {
   "cell_type": "code",
   "execution_count": null,
   "metadata": {},
   "outputs": [],
   "source": []
  }
 ],
 "metadata": {
  "kernelspec": {
   "display_name": "Python 3",
   "language": "python",
   "name": "python3"
  },
  "language_info": {
   "codemirror_mode": {
    "name": "ipython",
    "version": 3
   },
   "file_extension": ".py",
   "mimetype": "text/x-python",
   "name": "python",
   "nbconvert_exporter": "python",
   "pygments_lexer": "ipython3",
   "version": "3.9.6"
  }
 },
 "nbformat": 4,
 "nbformat_minor": 2
}
