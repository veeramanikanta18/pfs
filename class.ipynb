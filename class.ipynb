{
 "cells": [
  {
   "cell_type": "markdown",
   "metadata": {},
   "source": [
    " a class is a blueprint for creating objects. It defines a set of attributes (variables) and methods (functions) that the objects created from the class will have"
   ]
  },
  {
   "cell_type": "code",
   "execution_count": 1,
   "metadata": {},
   "outputs": [],
   "source": [
    "class c1:               # declaration of the class \n",
    "    def m1():           # method declaration \n",
    "        print('hello')\n",
    "    def m2():\n",
    "        print('bye')"
   ]
  },
  {
   "cell_type": "code",
   "execution_count": 2,
   "metadata": {},
   "outputs": [
    {
     "name": "stdout",
     "output_type": "stream",
     "text": [
      "hello\n"
     ]
    }
   ],
   "source": [
    "c1.m1()"
   ]
  },
  {
   "cell_type": "code",
   "execution_count": 3,
   "metadata": {},
   "outputs": [
    {
     "data": {
      "text/plain": [
       "__main__.c1"
      ]
     },
     "execution_count": 3,
     "metadata": {},
     "output_type": "execute_result"
    }
   ],
   "source": [
    "c1"
   ]
  },
  {
   "cell_type": "code",
   "execution_count": 5,
   "metadata": {},
   "outputs": [
    {
     "name": "stdout",
     "output_type": "stream",
     "text": [
      "bye\n"
     ]
    }
   ],
   "source": [
    "c1.m2()"
   ]
  },
  {
   "cell_type": "code",
   "execution_count": 10,
   "metadata": {},
   "outputs": [
    {
     "name": "stdout",
     "output_type": "stream",
     "text": [
      "2021 Toyota Corolla\n",
      "Toyota Corolla is starting.\n"
     ]
    }
   ],
   "source": [
    "class Car:\n",
    "    # Constructor method\n",
    "    def __init__(self, brand, model, year):\n",
    "        self.brand = brand  # Instance attribute\n",
    "        self.model = model\n",
    "        self.year = year\n",
    "    \n",
    "    # Method to describe the car\n",
    "    def describe(self):\n",
    "        return f\"{self.year} {self.brand} {self.model}\"\n",
    "    \n",
    "    # Method to start the car\n",
    "    def start(self):\n",
    "        return f\"{self.brand} {self.model} is starting.\"\n",
    "\n",
    "# Creating an object (instance) of the Car class\n",
    "my_car = Car(\"Toyota\", \"Corolla\", 2021)\n",
    "# Accessing attributes and methods\n",
    "print(my_car.describe())  # Output: 2021 Toyota Corolla\n",
    "print(my_car.start())     # Output: Toyota Corolla is starting.\n"
   ]
  },
  {
   "cell_type": "code",
   "execution_count": 2,
   "metadata": {},
   "outputs": [],
   "source": [
    "class info:\n",
    "    @staticmethod       # decarators\n",
    "    def test(name):\n",
    "        print(name)\n",
    "\n",
    "    def check(self,a):\n",
    "        print(a)"
   ]
  },
  {
   "cell_type": "code",
   "execution_count": 3,
   "metadata": {},
   "outputs": [],
   "source": [
    "class value:\n",
    "    \n",
    "    @classmethod                    # type-1\n",
    "    def gen(ab,xy):\n",
    "        print(ab,xy,sep='--')\n",
    "\n",
    "    #gen = classmethod(gen)         # type-2"
   ]
  },
  {
   "cell_type": "code",
   "execution_count": 4,
   "metadata": {},
   "outputs": [
    {
     "name": "stdout",
     "output_type": "stream",
     "text": [
      "mani\n"
     ]
    }
   ],
   "source": [
    "info.test('mani')"
   ]
  },
  {
   "cell_type": "code",
   "execution_count": 9,
   "metadata": {},
   "outputs": [
    {
     "name": "stdout",
     "output_type": "stream",
     "text": [
      "23\n"
     ]
    }
   ],
   "source": [
    "info.check(1,23)"
   ]
  },
  {
   "cell_type": "code",
   "execution_count": null,
   "metadata": {},
   "outputs": [],
   "source": []
  }
 ],
 "metadata": {
  "kernelspec": {
   "display_name": "Python 3",
   "language": "python",
   "name": "python3"
  },
  "language_info": {
   "codemirror_mode": {
    "name": "ipython",
    "version": 3
   },
   "file_extension": ".py",
   "mimetype": "text/x-python",
   "name": "python",
   "nbconvert_exporter": "python",
   "pygments_lexer": "ipython3",
   "version": "3.9.6"
  }
 },
 "nbformat": 4,
 "nbformat_minor": 2
}
