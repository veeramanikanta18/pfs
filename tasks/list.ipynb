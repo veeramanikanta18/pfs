{
 "cells": [
  {
   "cell_type": "code",
   "execution_count": 1,
   "metadata": {},
   "outputs": [],
   "source": [
    "l1 = [1,2,3,4,5]"
   ]
  },
  {
   "cell_type": "code",
   "execution_count": 3,
   "metadata": {},
   "outputs": [],
   "source": [
    "l1[0],l1[-1] = l1[-1], l1[0]"
   ]
  },
  {
   "cell_type": "code",
   "execution_count": 4,
   "metadata": {},
   "outputs": [
    {
     "data": {
      "text/plain": [
       "[5, 2, 3, 4, 1]"
      ]
     },
     "execution_count": 4,
     "metadata": {},
     "output_type": "execute_result"
    }
   ],
   "source": [
    "l1"
   ]
  },
  {
   "cell_type": "code",
   "execution_count": 9,
   "metadata": {},
   "outputs": [
    {
     "data": {
      "text/plain": [
       "[2, 1, 3, 4, 5, 6]"
      ]
     },
     "execution_count": 9,
     "metadata": {},
     "output_type": "execute_result"
    }
   ],
   "source": [
    "swap_l = [1,2,3,4,5,6]\n",
    "swap_l[0],swap_l[1] = swap_l[1],swap_l[0]\n",
    "swap_l"
   ]
  },
  {
   "cell_type": "code",
   "execution_count": 14,
   "metadata": {},
   "outputs": [
    {
     "name": "stdout",
     "output_type": "stream",
     "text": [
      "4\n"
     ]
    }
   ],
   "source": [
    "lentlist = ['mani',1,2.3,5]\n",
    "count = 0\n",
    "for i in range(len(lentlist)):\n",
    "    count += 1\n",
    "print(count)"
   ]
  },
  {
   "cell_type": "code",
   "execution_count": 19,
   "metadata": {},
   "outputs": [
    {
     "data": {
      "text/plain": [
       "4"
      ]
     },
     "execution_count": 19,
     "metadata": {},
     "output_type": "execute_result"
    }
   ],
   "source": [
    "len(lentlist)"
   ]
  },
  {
   "cell_type": "code",
   "execution_count": 20,
   "metadata": {},
   "outputs": [
    {
     "name": "stdout",
     "output_type": "stream",
     "text": [
      "1\n"
     ]
    }
   ],
   "source": [
    "list_check = [1,2,3,4,'hello',3.4]\n",
    "\n",
    "if list_check[0] == 1:\n",
    "    print(list_check[0])\n",
    "else:\n",
    "    print(list_check)"
   ]
  },
  {
   "cell_type": "code",
   "execution_count": 1,
   "metadata": {},
   "outputs": [
    {
     "data": {
      "text/plain": [
       "[4, 3, 2, 1]"
      ]
     },
     "execution_count": 1,
     "metadata": {},
     "output_type": "execute_result"
    }
   ],
   "source": [
    "ls = [1,2,3,4]\n",
    "r_ls = ls[::-1]\n",
    "r_ls"
   ]
  },
  {
   "cell_type": "code",
   "execution_count": 4,
   "metadata": {},
   "outputs": [
    {
     "name": "stdout",
     "output_type": "stream",
     "text": [
      "[1, 2, 3, 4]\n",
      "[1, 2, 3, 4]\n",
      "[1, 2, 3, 4]\n"
     ]
    }
   ],
   "source": [
    "# Python program to Cloning or Copying a list without using inbuilt function. \n",
    "print(ls)\n",
    "\n",
    "# way -1\n",
    "cl = ls\n",
    "print(cl)\n",
    "\n",
    "# way -2\n",
    "cop = cl.copy()\n",
    "print(cop)"
   ]
  },
  {
   "cell_type": "code",
   "execution_count": 9,
   "metadata": {},
   "outputs": [
    {
     "name": "stdout",
     "output_type": "stream",
     "text": [
      "3\n"
     ]
    }
   ],
   "source": [
    "# Python program to Count occurrences of an element in a list\n",
    "\n",
    "l = [1,2,4,5,6,1,2,5,2]\n",
    "c = 0 \n",
    "ele = 2\n",
    "\n",
    "for i in l:\n",
    "    if i == ele:\n",
    "        c += 1\n",
    "\n",
    "print(c)\n",
    "            \n"
   ]
  },
  {
   "cell_type": "code",
   "execution_count": 17,
   "metadata": {},
   "outputs": [
    {
     "name": "stdout",
     "output_type": "stream",
     "text": [
      "1206\n",
      "172.28571428571428\n"
     ]
    }
   ],
   "source": [
    "# Python Program to find sum and average of List in Python.\n",
    "\n",
    "lst_el = [1,3,2,456,734,6,4]\n",
    "sum = 0 \n",
    "t = 0\n",
    "for ele in lst_el:\n",
    "    sum += ele          # sum = 0 + 1 = 1 -> sum = 1 + 3 = 4 -> sum = 4+2 = 6 -> sum = 6 + 456 = 462 ---\n",
    "\n",
    "print(sum)\n",
    "for e in lst_el:\n",
    "    t += 1\n",
    "a = sum / t \n",
    "print(a)"
   ]
  },
  {
   "cell_type": "code",
   "execution_count": null,
   "metadata": {},
   "outputs": [],
   "source": []
  }
 ],
 "metadata": {
  "kernelspec": {
   "display_name": "Python 3",
   "language": "python",
   "name": "python3"
  },
  "language_info": {
   "codemirror_mode": {
    "name": "ipython",
    "version": 3
   },
   "file_extension": ".py",
   "mimetype": "text/x-python",
   "name": "python",
   "nbconvert_exporter": "python",
   "pygments_lexer": "ipython3",
   "version": "3.9.6"
  }
 },
 "nbformat": 4,
 "nbformat_minor": 2
}
